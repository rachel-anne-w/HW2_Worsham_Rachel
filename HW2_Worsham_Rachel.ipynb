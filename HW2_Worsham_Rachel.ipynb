{
 "cells": [
  {
   "cell_type": "code",
   "execution_count": 1,
   "id": "73198aa9",
   "metadata": {},
   "outputs": [
    {
     "name": "stdout",
     "output_type": "stream",
     "text": [
      "0\n",
      "1\n",
      "2\n",
      "3\n",
      "4\n"
     ]
    }
   ],
   "source": [
    "n = 0\n",
    "while n<10:\n",
    "    print (n)\n",
    "    n +=1\n",
    "    if n>=5:\n",
    "        break\n"
   ]
  },
  {
   "cell_type": "code",
   "execution_count": 2,
   "id": "2cd204e8",
   "metadata": {},
   "outputs": [
    {
     "name": "stdout",
     "output_type": "stream",
     "text": [
      "0\n",
      "1\n",
      "2\n",
      "3\n",
      "4\n",
      "5 is not less than 5\n"
     ]
    }
   ],
   "source": [
    "n=0\n",
    "while n<5:\n",
    "    print (n)\n",
    "    n+=1\n",
    "    if n>=5:\n",
    "        print(n, 'is not less than 5')\n"
   ]
  },
  {
   "cell_type": "code",
   "execution_count": 3,
   "id": "74f335a6",
   "metadata": {},
   "outputs": [
    {
     "name": "stdout",
     "output_type": "stream",
     "text": [
      "a fruit i like is kiwi\n",
      "a fruit i like is strawberry\n",
      "a fruit i like is orange\n",
      "apples are gross\n"
     ]
    }
   ],
   "source": [
    "fav_fruits = [\"kiwi\", \"strawberry\", \"orange\", \"apple\", \"peach\"]\n",
    "for fruit in fav_fruits:\n",
    "    if fruit == \"apple\":\n",
    "        break\n",
    "    print(\"a fruit i like is\", fruit)\n",
    "print (\"apples are gross\")\n"
   ]
  },
  {
   "cell_type": "code",
   "execution_count": 4,
   "id": "b7823be5",
   "metadata": {},
   "outputs": [
    {
     "name": "stdout",
     "output_type": "stream",
     "text": [
      "465\n"
     ]
    }
   ],
   "source": [
    "n = 30\n",
    "sum = 0\n",
    "total = 1\n",
    "\n",
    "while total<=n:\n",
    "    sum=sum+total\n",
    "    total=total+1\n",
    "print (sum)\n"
   ]
  },
  {
   "cell_type": "code",
   "execution_count": 5,
   "id": "7982d769",
   "metadata": {},
   "outputs": [
    {
     "name": "stdout",
     "output_type": "stream",
     "text": [
      "when sunny let us play\n",
      "when rainy let us watch TV\n",
      "when cloudy let us walk\n"
     ]
    }
   ],
   "source": [
    "weather = {'sunny':'play', 'rainy':'watch TV', 'cloudy':'walk'}\n",
    "for condition in weather:\n",
    "    print ('when', condition,'let us',weather[condition])\n"
   ]
  },
  {
   "cell_type": "code",
   "execution_count": 6,
   "id": "ca0dfa1f",
   "metadata": {},
   "outputs": [
    {
     "name": "stdout",
     "output_type": "stream",
     "text": [
      "{'sunny': 'play', 'rainy': 'watch TV', 'cloudy': 'walk', 'snowy': 'ski'}\n"
     ]
    }
   ],
   "source": [
    "weather.update({'snowy':'ski'})\n",
    "print (weather)\n"
   ]
  },
  {
   "cell_type": "code",
   "execution_count": 7,
   "id": "f318c54f",
   "metadata": {},
   "outputs": [
    {
     "name": "stdout",
     "output_type": "stream",
     "text": [
      "when sunny let us play\n",
      "when rainy let us watch TV\n",
      "when cloudy let us walk\n",
      "when snowy let us ski\n"
     ]
    }
   ],
   "source": [
    "dict(weather)\n",
    "for condition in weather:\n",
    "    if condition=='sunny':\n",
    "        print('when', condition, 'let us', weather[condition])\n",
    "    if condition=='rainy':\n",
    "        print('when', condition, 'let us', weather[condition])\n",
    "    if condition=='cloudy':\n",
    "        print('when', condition, 'let us', weather[condition])\n",
    "else:\n",
    "    print('when', condition, 'let us', weather[condition])"
   ]
  },
  {
   "cell_type": "code",
   "execution_count": 8,
   "id": "665a70b2",
   "metadata": {},
   "outputs": [
    {
     "name": "stdout",
     "output_type": "stream",
     "text": [
      "a grade of 79 is a C\n"
     ]
    }
   ],
   "source": [
    "grade = 79\n",
    "if grade>=90:\n",
    "    print('a grade of', grade, 'is an A')\n",
    "elif grade>80:\n",
    "    print('a grade of', grade, 'is a B')\n",
    "elif grade>70:\n",
    "    print('a grade of', grade, 'is a C')\n",
    "elif grade>60:\n",
    "    print('a grade of', grade, 'is a D')\n",
    "else:\n",
    "    print('a grade of', grade, 'is a F')"
   ]
  },
  {
   "cell_type": "code",
   "execution_count": null,
   "id": "edff8a9d",
   "metadata": {},
   "outputs": [],
   "source": []
  }
 ],
 "metadata": {
  "kernelspec": {
   "display_name": "Python 3",
   "language": "python",
   "name": "python3"
  },
  "language_info": {
   "codemirror_mode": {
    "name": "ipython",
    "version": 3
   },
   "file_extension": ".py",
   "mimetype": "text/x-python",
   "name": "python",
   "nbconvert_exporter": "python",
   "pygments_lexer": "ipython3",
   "version": "3.8.8"
  }
 },
 "nbformat": 4,
 "nbformat_minor": 5
}
